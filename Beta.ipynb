import numpy as np
import matplotlib.pyplot as plt
%matplotlib inline

x=np.linspace(0, 2*np.pi, 180)
y=np.sin(x)
plt.plot(x, y)
